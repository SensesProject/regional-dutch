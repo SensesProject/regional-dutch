{
 "cells": [
  {
   "cell_type": "code",
   "execution_count": 7,
   "metadata": {},
   "outputs": [],
   "source": [
    "using LightGraphs"
   ]
  },
  {
   "cell_type": "code",
   "execution_count": 8,
   "metadata": {},
   "outputs": [
    {
     "ename": "UndefVarError",
     "evalue": "UndefVarError: gplot not defined",
     "output_type": "error",
     "traceback": [
      "UndefVarError: gplot not defined",
      "",
      "Stacktrace:",
      " [1] top-level scope at In[8]:7"
     ]
    }
   ],
   "source": [
    "G₁ = Graph(3) # graph with 3 vertices\n",
    "\n",
    "# make a triangle\n",
    "add_edge!(G₁, 1, 2)\n",
    "add_edge!(G₁, 1, 3)\n",
    "add_edge!(G₁, 2, 3)\n",
    "\n",
    "gplot(G₁, nodelabel=1:3)"
   ]
  },
  {
   "cell_type": "code",
   "execution_count": null,
   "metadata": {},
   "outputs": [],
   "source": []
  }
 ],
 "metadata": {
  "kernelspec": {
   "display_name": "Julia 1.1.0",
   "language": "julia",
   "name": "julia-1.1"
  },
  "language_info": {
   "file_extension": ".jl",
   "mimetype": "application/julia",
   "name": "julia",
   "version": "1.1.0"
  }
 },
 "nbformat": 4,
 "nbformat_minor": 4
}
